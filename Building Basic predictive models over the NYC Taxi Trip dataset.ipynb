{
 "cells": [
  {
   "cell_type": "markdown",
   "id": "cd59d464",
   "metadata": {},
   "source": [
    "   ### Building Basic predictive models over the NYC Taxi Trip dataset \n"
   ]
  },
  {
   "cell_type": "markdown",
   "id": "033d0023",
   "metadata": {},
   "source": [
    "<img src=\"https://www.brickunderground.com/sites/default/files/styles/new_blog_entry_primary_image_xl/public/blog/images/4859177053_c3fb190917_o.webp\" >"
   ]
  },
  {
   "cell_type": "markdown",
   "id": "484b97ca",
   "metadata": {},
   "source": [
    "## Importing libraries ##\n"
   ]
  },
  {
   "cell_type": "code",
   "execution_count": 126,
   "id": "c5d92fba",
   "metadata": {},
   "outputs": [],
   "source": [
    "%matplotlib inline\n",
    "import pandas as pd\n",
    "import numpy as np\n",
    "import matplotlib.pyplot as plt\n",
    "import seaborn as sns\n",
    "import geopy.distance\n",
    "import warnings\n",
    "from datetime import timedelta\n",
    "import datetime as dt\n",
    "warnings.filterwarnings('ignore')"
   ]
  },
  {
   "cell_type": "markdown",
   "id": "83176fe5",
   "metadata": {},
   "source": [
    "\n",
    "## Import data ##"
   ]
  },
  {
   "cell_type": "code",
   "execution_count": 127,
   "id": "afcb85cd",
   "metadata": {},
   "outputs": [],
   "source": [
    "data = pd.read_csv('nyc_taxi_trip_duration.csv')"
   ]
  },
  {
   "cell_type": "code",
   "execution_count": 128,
   "id": "af1a49d9",
   "metadata": {},
   "outputs": [],
   "source": [
    "#A raw data copy\n",
    "\n",
    "datacp = data"
   ]
  },
  {
   "cell_type": "markdown",
   "id": "cce9d566",
   "metadata": {},
   "source": [
    "### STRUCTURE OF DATA AND CONTENT ##"
   ]
  },
  {
   "cell_type": "code",
   "execution_count": 129,
   "id": "8e60ecd4",
   "metadata": {},
   "outputs": [
    {
     "data": {
      "text/plain": [
       "(729322, 11)"
      ]
     },
     "execution_count": 129,
     "metadata": {},
     "output_type": "execute_result"
    }
   ],
   "source": [
    "data.shape"
   ]
  },
  {
   "cell_type": "markdown",
   "id": "729dc5ab",
   "metadata": {},
   "source": [
    "**we can see that there are 729322 rows and 11 columns**\n",
    "\n"
   ]
  },
  {
   "cell_type": "markdown",
   "id": "956a887b",
   "metadata": {},
   "source": [
    "## Data collection ##\n",
    "\n"
   ]
  },
  {
   "cell_type": "markdown",
   "id": "681c4488",
   "metadata": {},
   "source": [
    "The variables present are listed as follows :\n",
    "\n",
    "\n",
    " - **id** - a unique identifier for each trip\n",
    " - **vendor_id** - a code indicating the provider associated with the trip record\n",
    " - **pickup_datetime** - date and time when the meter was engaged\n",
    " - **dropoff_datetime** - date and time when the meter was disengaged\n",
    " - **passenger_count** - the number of passengers in the vehicle (driver entered value)\n",
    " - **pickup_longitude** - the longitude where the meter was engaged\n",
    " - **pickup_latitude** - the latitude where the meter was engaged\n",
    " - **dropoff_longitude** - the longitude where the meter was disengaged\n",
    " - **dropoff_latitude** - the latitude where the meter was disengaged\n",
    " - **store_and_fwd_flag** - This flag indicates whether the trip record was held in vehicle memory before sending to the vendor because the vehicle did not have a connection to the server (Y=store and forward; N=not a store and forward trip)\n",
    " - **trip_duration** - (target) duration of the trip in seconds\n",
    "\n",
    " \n",
    " \n",
    " It is to be noted that the dropoff_datetime and store_and_fwd_flag are not present at the start of the journey "
   ]
  },
  {
   "cell_type": "markdown",
   "id": "94490664",
   "metadata": {},
   "source": [
    "**Checking the columns for what all variables are present and it can be confirmed that we have all the variables  as mentioned in the project**"
   ]
  },
  {
   "cell_type": "code",
   "execution_count": 130,
   "id": "5e0bb55a",
   "metadata": {},
   "outputs": [
    {
     "data": {
      "text/plain": [
       "Index(['id', 'vendor_id', 'pickup_datetime', 'dropoff_datetime',\n",
       "       'passenger_count', 'pickup_longitude', 'pickup_latitude',\n",
       "       'dropoff_longitude', 'dropoff_latitude', 'store_and_fwd_flag',\n",
       "       'trip_duration'],\n",
       "      dtype='object')"
      ]
     },
     "execution_count": 130,
     "metadata": {},
     "output_type": "execute_result"
    }
   ],
   "source": [
    "data.columns"
   ]
  },
  {
   "cell_type": "markdown",
   "id": "f5259db8",
   "metadata": {},
   "source": []
  },
  {
   "cell_type": "code",
   "execution_count": 131,
   "id": "2638d9de",
   "metadata": {
    "scrolled": true
   },
   "outputs": [
    {
     "data": {
      "text/plain": [
       "id                     object\n",
       "vendor_id               int64\n",
       "pickup_datetime        object\n",
       "dropoff_datetime       object\n",
       "passenger_count         int64\n",
       "pickup_longitude      float64\n",
       "pickup_latitude       float64\n",
       "dropoff_longitude     float64\n",
       "dropoff_latitude      float64\n",
       "store_and_fwd_flag     object\n",
       "trip_duration           int64\n",
       "dtype: object"
      ]
     },
     "execution_count": 131,
     "metadata": {},
     "output_type": "execute_result"
    }
   ],
   "source": [
    "# a view of datatypes that are present\n",
    "data.dtypes"
   ]
  },
  {
   "cell_type": "code",
   "execution_count": 132,
   "id": "ad09765b",
   "metadata": {
    "scrolled": true
   },
   "outputs": [
    {
     "data": {
      "text/html": [
       "<div>\n",
       "<style scoped>\n",
       "    .dataframe tbody tr th:only-of-type {\n",
       "        vertical-align: middle;\n",
       "    }\n",
       "\n",
       "    .dataframe tbody tr th {\n",
       "        vertical-align: top;\n",
       "    }\n",
       "\n",
       "    .dataframe thead th {\n",
       "        text-align: right;\n",
       "    }\n",
       "</style>\n",
       "<table border=\"1\" class=\"dataframe\">\n",
       "  <thead>\n",
       "    <tr style=\"text-align: right;\">\n",
       "      <th></th>\n",
       "      <th>id</th>\n",
       "      <th>vendor_id</th>\n",
       "      <th>pickup_datetime</th>\n",
       "      <th>dropoff_datetime</th>\n",
       "      <th>passenger_count</th>\n",
       "      <th>pickup_longitude</th>\n",
       "      <th>pickup_latitude</th>\n",
       "      <th>dropoff_longitude</th>\n",
       "      <th>dropoff_latitude</th>\n",
       "      <th>store_and_fwd_flag</th>\n",
       "      <th>trip_duration</th>\n",
       "    </tr>\n",
       "  </thead>\n",
       "  <tbody>\n",
       "    <tr>\n",
       "      <th>0</th>\n",
       "      <td>id1080784</td>\n",
       "      <td>2</td>\n",
       "      <td>2016-02-29 16:40:21</td>\n",
       "      <td>2016-02-29 16:47:01</td>\n",
       "      <td>1</td>\n",
       "      <td>-73.953918</td>\n",
       "      <td>40.778873</td>\n",
       "      <td>-73.963875</td>\n",
       "      <td>40.771164</td>\n",
       "      <td>N</td>\n",
       "      <td>400</td>\n",
       "    </tr>\n",
       "    <tr>\n",
       "      <th>1</th>\n",
       "      <td>id0889885</td>\n",
       "      <td>1</td>\n",
       "      <td>2016-03-11 23:35:37</td>\n",
       "      <td>2016-03-11 23:53:57</td>\n",
       "      <td>2</td>\n",
       "      <td>-73.988312</td>\n",
       "      <td>40.731743</td>\n",
       "      <td>-73.994751</td>\n",
       "      <td>40.694931</td>\n",
       "      <td>N</td>\n",
       "      <td>1100</td>\n",
       "    </tr>\n",
       "    <tr>\n",
       "      <th>2</th>\n",
       "      <td>id0857912</td>\n",
       "      <td>2</td>\n",
       "      <td>2016-02-21 17:59:33</td>\n",
       "      <td>2016-02-21 18:26:48</td>\n",
       "      <td>2</td>\n",
       "      <td>-73.997314</td>\n",
       "      <td>40.721458</td>\n",
       "      <td>-73.948029</td>\n",
       "      <td>40.774918</td>\n",
       "      <td>N</td>\n",
       "      <td>1635</td>\n",
       "    </tr>\n",
       "    <tr>\n",
       "      <th>3</th>\n",
       "      <td>id3744273</td>\n",
       "      <td>2</td>\n",
       "      <td>2016-01-05 09:44:31</td>\n",
       "      <td>2016-01-05 10:03:32</td>\n",
       "      <td>6</td>\n",
       "      <td>-73.961670</td>\n",
       "      <td>40.759720</td>\n",
       "      <td>-73.956779</td>\n",
       "      <td>40.780628</td>\n",
       "      <td>N</td>\n",
       "      <td>1141</td>\n",
       "    </tr>\n",
       "    <tr>\n",
       "      <th>4</th>\n",
       "      <td>id0232939</td>\n",
       "      <td>1</td>\n",
       "      <td>2016-02-17 06:42:23</td>\n",
       "      <td>2016-02-17 06:56:31</td>\n",
       "      <td>1</td>\n",
       "      <td>-74.017120</td>\n",
       "      <td>40.708469</td>\n",
       "      <td>-73.988182</td>\n",
       "      <td>40.740631</td>\n",
       "      <td>N</td>\n",
       "      <td>848</td>\n",
       "    </tr>\n",
       "  </tbody>\n",
       "</table>\n",
       "</div>"
      ],
      "text/plain": [
       "          id  vendor_id      pickup_datetime     dropoff_datetime  \\\n",
       "0  id1080784          2  2016-02-29 16:40:21  2016-02-29 16:47:01   \n",
       "1  id0889885          1  2016-03-11 23:35:37  2016-03-11 23:53:57   \n",
       "2  id0857912          2  2016-02-21 17:59:33  2016-02-21 18:26:48   \n",
       "3  id3744273          2  2016-01-05 09:44:31  2016-01-05 10:03:32   \n",
       "4  id0232939          1  2016-02-17 06:42:23  2016-02-17 06:56:31   \n",
       "\n",
       "   passenger_count  pickup_longitude  pickup_latitude  dropoff_longitude  \\\n",
       "0                1        -73.953918        40.778873         -73.963875   \n",
       "1                2        -73.988312        40.731743         -73.994751   \n",
       "2                2        -73.997314        40.721458         -73.948029   \n",
       "3                6        -73.961670        40.759720         -73.956779   \n",
       "4                1        -74.017120        40.708469         -73.988182   \n",
       "\n",
       "   dropoff_latitude store_and_fwd_flag  trip_duration  \n",
       "0         40.771164                  N            400  \n",
       "1         40.694931                  N           1100  \n",
       "2         40.774918                  N           1635  \n",
       "3         40.780628                  N           1141  \n",
       "4         40.740631                  N            848  "
      ]
     },
     "execution_count": 132,
     "metadata": {},
     "output_type": "execute_result"
    }
   ],
   "source": [
    "# sample of first 5 rows to understand how values are represented\n",
    "data.head()"
   ]
  },
  {
   "cell_type": "code",
   "execution_count": 133,
   "id": "e7105756",
   "metadata": {},
   "outputs": [
    {
     "data": {
      "text/html": [
       "<div>\n",
       "<style scoped>\n",
       "    .dataframe tbody tr th:only-of-type {\n",
       "        vertical-align: middle;\n",
       "    }\n",
       "\n",
       "    .dataframe tbody tr th {\n",
       "        vertical-align: top;\n",
       "    }\n",
       "\n",
       "    .dataframe thead th {\n",
       "        text-align: right;\n",
       "    }\n",
       "</style>\n",
       "<table border=\"1\" class=\"dataframe\">\n",
       "  <thead>\n",
       "    <tr style=\"text-align: right;\">\n",
       "      <th></th>\n",
       "      <th>id</th>\n",
       "      <th>vendor_id</th>\n",
       "      <th>pickup_datetime</th>\n",
       "      <th>dropoff_datetime</th>\n",
       "      <th>passenger_count</th>\n",
       "      <th>pickup_longitude</th>\n",
       "      <th>pickup_latitude</th>\n",
       "      <th>dropoff_longitude</th>\n",
       "      <th>dropoff_latitude</th>\n",
       "      <th>store_and_fwd_flag</th>\n",
       "      <th>trip_duration</th>\n",
       "    </tr>\n",
       "  </thead>\n",
       "  <tbody>\n",
       "    <tr>\n",
       "      <th>729317</th>\n",
       "      <td>id3905982</td>\n",
       "      <td>2</td>\n",
       "      <td>2016-05-21 13:29:38</td>\n",
       "      <td>2016-05-21 13:34:34</td>\n",
       "      <td>2</td>\n",
       "      <td>-73.965919</td>\n",
       "      <td>40.789780</td>\n",
       "      <td>-73.952637</td>\n",
       "      <td>40.789181</td>\n",
       "      <td>N</td>\n",
       "      <td>296</td>\n",
       "    </tr>\n",
       "    <tr>\n",
       "      <th>729318</th>\n",
       "      <td>id0102861</td>\n",
       "      <td>1</td>\n",
       "      <td>2016-02-22 00:43:11</td>\n",
       "      <td>2016-02-22 00:48:26</td>\n",
       "      <td>1</td>\n",
       "      <td>-73.996666</td>\n",
       "      <td>40.737434</td>\n",
       "      <td>-74.001320</td>\n",
       "      <td>40.731911</td>\n",
       "      <td>N</td>\n",
       "      <td>315</td>\n",
       "    </tr>\n",
       "    <tr>\n",
       "      <th>729319</th>\n",
       "      <td>id0439699</td>\n",
       "      <td>1</td>\n",
       "      <td>2016-04-15 18:56:48</td>\n",
       "      <td>2016-04-15 19:08:01</td>\n",
       "      <td>1</td>\n",
       "      <td>-73.997849</td>\n",
       "      <td>40.761696</td>\n",
       "      <td>-74.001488</td>\n",
       "      <td>40.741207</td>\n",
       "      <td>N</td>\n",
       "      <td>673</td>\n",
       "    </tr>\n",
       "    <tr>\n",
       "      <th>729320</th>\n",
       "      <td>id2078912</td>\n",
       "      <td>1</td>\n",
       "      <td>2016-06-19 09:50:47</td>\n",
       "      <td>2016-06-19 09:58:14</td>\n",
       "      <td>1</td>\n",
       "      <td>-74.006706</td>\n",
       "      <td>40.708244</td>\n",
       "      <td>-74.013550</td>\n",
       "      <td>40.713814</td>\n",
       "      <td>N</td>\n",
       "      <td>447</td>\n",
       "    </tr>\n",
       "    <tr>\n",
       "      <th>729321</th>\n",
       "      <td>id1053441</td>\n",
       "      <td>2</td>\n",
       "      <td>2016-01-01 17:24:16</td>\n",
       "      <td>2016-01-01 17:44:40</td>\n",
       "      <td>4</td>\n",
       "      <td>-74.003342</td>\n",
       "      <td>40.743839</td>\n",
       "      <td>-73.945847</td>\n",
       "      <td>40.712841</td>\n",
       "      <td>N</td>\n",
       "      <td>1224</td>\n",
       "    </tr>\n",
       "  </tbody>\n",
       "</table>\n",
       "</div>"
      ],
      "text/plain": [
       "               id  vendor_id      pickup_datetime     dropoff_datetime  \\\n",
       "729317  id3905982          2  2016-05-21 13:29:38  2016-05-21 13:34:34   \n",
       "729318  id0102861          1  2016-02-22 00:43:11  2016-02-22 00:48:26   \n",
       "729319  id0439699          1  2016-04-15 18:56:48  2016-04-15 19:08:01   \n",
       "729320  id2078912          1  2016-06-19 09:50:47  2016-06-19 09:58:14   \n",
       "729321  id1053441          2  2016-01-01 17:24:16  2016-01-01 17:44:40   \n",
       "\n",
       "        passenger_count  pickup_longitude  pickup_latitude  dropoff_longitude  \\\n",
       "729317                2        -73.965919        40.789780         -73.952637   \n",
       "729318                1        -73.996666        40.737434         -74.001320   \n",
       "729319                1        -73.997849        40.761696         -74.001488   \n",
       "729320                1        -74.006706        40.708244         -74.013550   \n",
       "729321                4        -74.003342        40.743839         -73.945847   \n",
       "\n",
       "        dropoff_latitude store_and_fwd_flag  trip_duration  \n",
       "729317         40.789181                  N            296  \n",
       "729318         40.731911                  N            315  \n",
       "729319         40.741207                  N            673  \n",
       "729320         40.713814                  N            447  \n",
       "729321         40.712841                  N           1224  "
      ]
     },
     "execution_count": 133,
     "metadata": {},
     "output_type": "execute_result"
    }
   ],
   "source": [
    "# sample of first 5 rows to understand how values are represented\n",
    "data.tail()"
   ]
  },
  {
   "cell_type": "markdown",
   "id": "bafa318a",
   "metadata": {},
   "source": [
    "#### REFORMATTING FEATURES AND CHECKING CONSISTENCY ####"
   ]
  },
  {
   "cell_type": "markdown",
   "id": "c2833843",
   "metadata": {},
   "source": [
    "#### Checking for missing values"
   ]
  },
  {
   "cell_type": "code",
   "execution_count": 134,
   "id": "3e7b6807",
   "metadata": {},
   "outputs": [
    {
     "data": {
      "text/plain": [
       "id                    0\n",
       "vendor_id             0\n",
       "pickup_datetime       0\n",
       "dropoff_datetime      0\n",
       "passenger_count       0\n",
       "pickup_longitude      0\n",
       "pickup_latitude       0\n",
       "dropoff_longitude     0\n",
       "dropoff_latitude      0\n",
       "store_and_fwd_flag    0\n",
       "trip_duration         0\n",
       "dtype: int64"
      ]
     },
     "execution_count": 134,
     "metadata": {},
     "output_type": "execute_result"
    }
   ],
   "source": [
    "data.isnull().sum()"
   ]
  },
  {
   "cell_type": "code",
   "execution_count": 135,
   "id": "e5522fd2",
   "metadata": {},
   "outputs": [
    {
     "data": {
      "text/plain": [
       "(729322, 11)"
      ]
     },
     "execution_count": 135,
     "metadata": {},
     "output_type": "execute_result"
    }
   ],
   "source": [
    "\n",
    "data.shape"
   ]
  },
  {
   "cell_type": "markdown",
   "id": "62501a9f",
   "metadata": {},
   "source": [
    "#### Analysing each variable datatypes"
   ]
  },
  {
   "cell_type": "code",
   "execution_count": 136,
   "id": "13c59a98",
   "metadata": {},
   "outputs": [
    {
     "data": {
      "text/plain": [
       "vendor_id          int64\n",
       "passenger_count    int64\n",
       "trip_duration      int64\n",
       "dtype: object"
      ]
     },
     "execution_count": 136,
     "metadata": {},
     "output_type": "execute_result"
    }
   ],
   "source": [
    "# INTEGER DATATYPE\n",
    "\n",
    "data.dtypes[data.dtypes == 'int64']"
   ]
  },
  {
   "cell_type": "markdown",
   "id": "81743bb6",
   "metadata": {},
   "source": [
    "**observations:**\n",
    "\n",
    "**vendor_id** are the provider identification thus it is considered categorical\n",
    "\n",
    "**passenger_count** can be take as categorical for better analysis\n",
    "\n",
    "**trip_duration** are numbers hence they are also fall in integer category"
   ]
  },
  {
   "cell_type": "code",
   "execution_count": 137,
   "id": "b3c747c3",
   "metadata": {
    "scrolled": true
   },
   "outputs": [
    {
     "data": {
      "text/plain": [
       "pickup_longitude     float64\n",
       "pickup_latitude      float64\n",
       "dropoff_longitude    float64\n",
       "dropoff_latitude     float64\n",
       "dtype: object"
      ]
     },
     "execution_count": 137,
     "metadata": {},
     "output_type": "execute_result"
    }
   ],
   "source": [
    "# FLOAT DATATYPE\n",
    "data.dtypes[data.dtypes == 'float64']"
   ]
  },
  {
   "cell_type": "markdown",
   "id": "91cc19e5",
   "metadata": {},
   "source": [
    "**observations:**\n",
    "\n",
    "**pickup_longitude, pickup_latitude, dropoff_longitude, dropoff_latitude** are suited to in float datatype"
   ]
  },
  {
   "cell_type": "code",
   "execution_count": 138,
   "id": "21e131fa",
   "metadata": {
    "scrolled": true
   },
   "outputs": [
    {
     "data": {
      "text/plain": [
       "id                    object\n",
       "pickup_datetime       object\n",
       "dropoff_datetime      object\n",
       "store_and_fwd_flag    object\n",
       "dtype: object"
      ]
     },
     "execution_count": 138,
     "metadata": {},
     "output_type": "execute_result"
    }
   ],
   "source": [
    "# OBJECT DATATYPE\n",
    "data.dtypes[data.dtypes == 'object']"
   ]
  },
  {
   "cell_type": "markdown",
   "id": "4a41ae6d",
   "metadata": {},
   "source": [
    "**Observations:**\n",
    "\n",
    "**id** is a unique variable with numerical parts and id written at front and I choose to treat it as an object itself\n",
    "\n",
    "**pickup_datetime and dropoff_datetime** are datetime variable\n",
    "\n",
    "**store_and_fwd_flag** can be grouped under categorical"
   ]
  },
  {
   "cell_type": "code",
   "execution_count": 139,
   "id": "157052ec",
   "metadata": {},
   "outputs": [],
   "source": [
    "# typecasting store_and_fwd_flag to category\n",
    "data['store_and_fwd_flag'] = data['store_and_fwd_flag'].astype('category')"
   ]
  },
  {
   "cell_type": "code",
   "execution_count": 140,
   "id": "88bb7363",
   "metadata": {
    "scrolled": true
   },
   "outputs": [],
   "source": [
    "# Convert into datetime DATA TYPE from strings\n",
    "data['pickup_datetime'] = pd.to_datetime(data['pickup_datetime'])\n",
    "data['dropoff_datetime'] = pd.to_datetime(data['dropoff_datetime'])"
   ]
  },
  {
   "cell_type": "code",
   "execution_count": 141,
   "id": "f7c60d6c",
   "metadata": {
    "scrolled": true
   },
   "outputs": [],
   "source": [
    "#function to find the distance traversed\n",
    "def calc_distance(df):\n",
    "    pickup = (df['pickup_latitude'], df['pickup_longitude'])\n",
    "    drop = (df['dropoff_latitude'], df['dropoff_longitude'])\n",
    "    return geopy.distance.distance(pickup, drop).km"
   ]
  },
  {
   "cell_type": "code",
   "execution_count": 142,
   "id": "409bf24d",
   "metadata": {},
   "outputs": [],
   "source": [
    "#adding distance column in the dataframe\n",
    "data['distance'] = data.apply(lambda x: calc_distance(x), axis = 1)"
   ]
  },
  {
   "cell_type": "code",
   "execution_count": 143,
   "id": "e1caf8b5",
   "metadata": {},
   "outputs": [],
   "source": [
    "#calculating the data and imputing the speed into the dataframe\n",
    "data['speed'] = (data.distance/(data.trip_duration/3600))"
   ]
  },
  {
   "cell_type": "code",
   "execution_count": 144,
   "id": "9d725563",
   "metadata": {},
   "outputs": [],
   "source": [
    "#Using datetime to find and create new columns - day_name , month, day_num, pickup_hour\n",
    "\n",
    "data['day_name'] = data.pickup_datetime.dt.day_name()\n",
    "data['month'] = data.pickup_datetime.dt.month\n",
    "data['day_num'] = data.pickup_datetime.dt.weekday\n",
    "data['pickup_hour'] = data.pickup_datetime.dt.hour"
   ]
  },
  {
   "cell_type": "code",
   "execution_count": 145,
   "id": "7283974b",
   "metadata": {},
   "outputs": [],
   "source": [
    "#typecasting month, day_num, pickup_hour to category\n",
    "data['month'] = data['month'].astype('category')\n",
    "data['day_num'] = data['day_num'].astype('category')\n",
    "data['pickup_hour'] = data['pickup_hour'].astype('category')"
   ]
  },
  {
   "cell_type": "code",
   "execution_count": 146,
   "id": "04360edd",
   "metadata": {
    "scrolled": true
   },
   "outputs": [
    {
     "data": {
      "text/plain": [
       "id                            object\n",
       "vendor_id                      int64\n",
       "pickup_datetime       datetime64[ns]\n",
       "dropoff_datetime      datetime64[ns]\n",
       "passenger_count                int64\n",
       "pickup_longitude             float64\n",
       "pickup_latitude              float64\n",
       "dropoff_longitude            float64\n",
       "dropoff_latitude             float64\n",
       "store_and_fwd_flag          category\n",
       "trip_duration                  int64\n",
       "distance                     float64\n",
       "speed                        float64\n",
       "day_name                      object\n",
       "month                       category\n",
       "day_num                     category\n",
       "pickup_hour                 category\n",
       "dtype: object"
      ]
     },
     "execution_count": 146,
     "metadata": {},
     "output_type": "execute_result"
    }
   ],
   "source": [
    "#the variable datatypes are analysed\n",
    "data.dtypes"
   ]
  },
  {
   "cell_type": "code",
   "execution_count": 147,
   "id": "9e748a00",
   "metadata": {},
   "outputs": [],
   "source": [
    "# potential passenger_count outlier\n",
    "data = data[(data['passenger_count']  <= 6) & (data['passenger_count'] > 0)]"
   ]
  },
  {
   "cell_type": "code",
   "execution_count": 148,
   "id": "f351b135",
   "metadata": {},
   "outputs": [],
   "source": [
    "#all the categorical variable are converted to numerical\n",
    "\n",
    "dummy = pd.get_dummies(data.store_and_fwd_flag, prefix='flag')\n",
    "data = pd.concat([data,dummy], axis = 1)\n",
    "\n",
    "dummy = pd.get_dummies(data.vendor_id, prefix='vendor_id')\n",
    "data = pd.concat([data,dummy], axis = 1)\n",
    "\n",
    "dummy = pd.get_dummies(data.month, prefix='month')\n",
    "data = pd.concat([data,dummy], axis = 1)\n",
    "\n",
    "dummy = pd.get_dummies(data.day_num, prefix='day_num')\n",
    "data = pd.concat([data,dummy], axis = 1)\n",
    "\n",
    "dummy = pd.get_dummies(data.pickup_hour, prefix='pickup_hour')\n",
    "data = pd.concat([data,dummy], axis = 1)\n",
    "\n",
    "dummy = pd.get_dummies(data.passenger_count, prefix='passenger_count')\n",
    "data = pd.concat([data,dummy], axis = 1)\n"
   ]
  },
  {
   "cell_type": "code",
   "execution_count": 149,
   "id": "f9dcfcee",
   "metadata": {},
   "outputs": [],
   "source": [
    "pd.set_option('display.max_columns', None)\n"
   ]
  },
  {
   "cell_type": "code",
   "execution_count": 150,
   "id": "bb30238a",
   "metadata": {
    "scrolled": true
   },
   "outputs": [
    {
     "data": {
      "text/html": [
       "<div>\n",
       "<style scoped>\n",
       "    .dataframe tbody tr th:only-of-type {\n",
       "        vertical-align: middle;\n",
       "    }\n",
       "\n",
       "    .dataframe tbody tr th {\n",
       "        vertical-align: top;\n",
       "    }\n",
       "\n",
       "    .dataframe thead th {\n",
       "        text-align: right;\n",
       "    }\n",
       "</style>\n",
       "<table border=\"1\" class=\"dataframe\">\n",
       "  <thead>\n",
       "    <tr style=\"text-align: right;\">\n",
       "      <th></th>\n",
       "      <th>id</th>\n",
       "      <th>vendor_id</th>\n",
       "      <th>pickup_datetime</th>\n",
       "      <th>dropoff_datetime</th>\n",
       "      <th>passenger_count</th>\n",
       "      <th>pickup_longitude</th>\n",
       "      <th>pickup_latitude</th>\n",
       "      <th>dropoff_longitude</th>\n",
       "      <th>dropoff_latitude</th>\n",
       "      <th>store_and_fwd_flag</th>\n",
       "      <th>trip_duration</th>\n",
       "      <th>distance</th>\n",
       "      <th>speed</th>\n",
       "      <th>day_name</th>\n",
       "      <th>month</th>\n",
       "      <th>day_num</th>\n",
       "      <th>pickup_hour</th>\n",
       "      <th>flag_N</th>\n",
       "      <th>flag_Y</th>\n",
       "      <th>vendor_id_1</th>\n",
       "      <th>vendor_id_2</th>\n",
       "      <th>month_1</th>\n",
       "      <th>month_2</th>\n",
       "      <th>month_3</th>\n",
       "      <th>month_4</th>\n",
       "      <th>month_5</th>\n",
       "      <th>month_6</th>\n",
       "      <th>day_num_0</th>\n",
       "      <th>day_num_1</th>\n",
       "      <th>day_num_2</th>\n",
       "      <th>day_num_3</th>\n",
       "      <th>day_num_4</th>\n",
       "      <th>day_num_5</th>\n",
       "      <th>day_num_6</th>\n",
       "      <th>pickup_hour_0</th>\n",
       "      <th>pickup_hour_1</th>\n",
       "      <th>pickup_hour_2</th>\n",
       "      <th>pickup_hour_3</th>\n",
       "      <th>pickup_hour_4</th>\n",
       "      <th>pickup_hour_5</th>\n",
       "      <th>pickup_hour_6</th>\n",
       "      <th>pickup_hour_7</th>\n",
       "      <th>pickup_hour_8</th>\n",
       "      <th>pickup_hour_9</th>\n",
       "      <th>pickup_hour_10</th>\n",
       "      <th>pickup_hour_11</th>\n",
       "      <th>pickup_hour_12</th>\n",
       "      <th>pickup_hour_13</th>\n",
       "      <th>pickup_hour_14</th>\n",
       "      <th>pickup_hour_15</th>\n",
       "      <th>pickup_hour_16</th>\n",
       "      <th>pickup_hour_17</th>\n",
       "      <th>pickup_hour_18</th>\n",
       "      <th>pickup_hour_19</th>\n",
       "      <th>pickup_hour_20</th>\n",
       "      <th>pickup_hour_21</th>\n",
       "      <th>pickup_hour_22</th>\n",
       "      <th>pickup_hour_23</th>\n",
       "      <th>passenger_count_1</th>\n",
       "      <th>passenger_count_2</th>\n",
       "      <th>passenger_count_3</th>\n",
       "      <th>passenger_count_4</th>\n",
       "      <th>passenger_count_5</th>\n",
       "      <th>passenger_count_6</th>\n",
       "    </tr>\n",
       "  </thead>\n",
       "  <tbody>\n",
       "    <tr>\n",
       "      <th>0</th>\n",
       "      <td>id1080784</td>\n",
       "      <td>2</td>\n",
       "      <td>2016-02-29 16:40:21</td>\n",
       "      <td>2016-02-29 16:47:01</td>\n",
       "      <td>1</td>\n",
       "      <td>-73.953918</td>\n",
       "      <td>40.778873</td>\n",
       "      <td>-73.963875</td>\n",
       "      <td>40.771164</td>\n",
       "      <td>N</td>\n",
       "      <td>400</td>\n",
       "      <td>1.199770</td>\n",
       "      <td>10.797929</td>\n",
       "      <td>Monday</td>\n",
       "      <td>2</td>\n",
       "      <td>0</td>\n",
       "      <td>16</td>\n",
       "      <td>1</td>\n",
       "      <td>0</td>\n",
       "      <td>0</td>\n",
       "      <td>1</td>\n",
       "      <td>0</td>\n",
       "      <td>1</td>\n",
       "      <td>0</td>\n",
       "      <td>0</td>\n",
       "      <td>0</td>\n",
       "      <td>0</td>\n",
       "      <td>1</td>\n",
       "      <td>0</td>\n",
       "      <td>0</td>\n",
       "      <td>0</td>\n",
       "      <td>0</td>\n",
       "      <td>0</td>\n",
       "      <td>0</td>\n",
       "      <td>0</td>\n",
       "      <td>0</td>\n",
       "      <td>0</td>\n",
       "      <td>0</td>\n",
       "      <td>0</td>\n",
       "      <td>0</td>\n",
       "      <td>0</td>\n",
       "      <td>0</td>\n",
       "      <td>0</td>\n",
       "      <td>0</td>\n",
       "      <td>0</td>\n",
       "      <td>0</td>\n",
       "      <td>0</td>\n",
       "      <td>0</td>\n",
       "      <td>0</td>\n",
       "      <td>0</td>\n",
       "      <td>1</td>\n",
       "      <td>0</td>\n",
       "      <td>0</td>\n",
       "      <td>0</td>\n",
       "      <td>0</td>\n",
       "      <td>0</td>\n",
       "      <td>0</td>\n",
       "      <td>0</td>\n",
       "      <td>1</td>\n",
       "      <td>0</td>\n",
       "      <td>0</td>\n",
       "      <td>0</td>\n",
       "      <td>0</td>\n",
       "      <td>0</td>\n",
       "    </tr>\n",
       "    <tr>\n",
       "      <th>1</th>\n",
       "      <td>id0889885</td>\n",
       "      <td>1</td>\n",
       "      <td>2016-03-11 23:35:37</td>\n",
       "      <td>2016-03-11 23:53:57</td>\n",
       "      <td>2</td>\n",
       "      <td>-73.988312</td>\n",
       "      <td>40.731743</td>\n",
       "      <td>-73.994751</td>\n",
       "      <td>40.694931</td>\n",
       "      <td>N</td>\n",
       "      <td>1100</td>\n",
       "      <td>4.123945</td>\n",
       "      <td>13.496548</td>\n",
       "      <td>Friday</td>\n",
       "      <td>3</td>\n",
       "      <td>4</td>\n",
       "      <td>23</td>\n",
       "      <td>1</td>\n",
       "      <td>0</td>\n",
       "      <td>1</td>\n",
       "      <td>0</td>\n",
       "      <td>0</td>\n",
       "      <td>0</td>\n",
       "      <td>1</td>\n",
       "      <td>0</td>\n",
       "      <td>0</td>\n",
       "      <td>0</td>\n",
       "      <td>0</td>\n",
       "      <td>0</td>\n",
       "      <td>0</td>\n",
       "      <td>0</td>\n",
       "      <td>1</td>\n",
       "      <td>0</td>\n",
       "      <td>0</td>\n",
       "      <td>0</td>\n",
       "      <td>0</td>\n",
       "      <td>0</td>\n",
       "      <td>0</td>\n",
       "      <td>0</td>\n",
       "      <td>0</td>\n",
       "      <td>0</td>\n",
       "      <td>0</td>\n",
       "      <td>0</td>\n",
       "      <td>0</td>\n",
       "      <td>0</td>\n",
       "      <td>0</td>\n",
       "      <td>0</td>\n",
       "      <td>0</td>\n",
       "      <td>0</td>\n",
       "      <td>0</td>\n",
       "      <td>0</td>\n",
       "      <td>0</td>\n",
       "      <td>0</td>\n",
       "      <td>0</td>\n",
       "      <td>0</td>\n",
       "      <td>0</td>\n",
       "      <td>0</td>\n",
       "      <td>1</td>\n",
       "      <td>0</td>\n",
       "      <td>1</td>\n",
       "      <td>0</td>\n",
       "      <td>0</td>\n",
       "      <td>0</td>\n",
       "      <td>0</td>\n",
       "    </tr>\n",
       "    <tr>\n",
       "      <th>2</th>\n",
       "      <td>id0857912</td>\n",
       "      <td>2</td>\n",
       "      <td>2016-02-21 17:59:33</td>\n",
       "      <td>2016-02-21 18:26:48</td>\n",
       "      <td>2</td>\n",
       "      <td>-73.997314</td>\n",
       "      <td>40.721458</td>\n",
       "      <td>-73.948029</td>\n",
       "      <td>40.774918</td>\n",
       "      <td>N</td>\n",
       "      <td>1635</td>\n",
       "      <td>7.250436</td>\n",
       "      <td>15.964262</td>\n",
       "      <td>Sunday</td>\n",
       "      <td>2</td>\n",
       "      <td>6</td>\n",
       "      <td>17</td>\n",
       "      <td>1</td>\n",
       "      <td>0</td>\n",
       "      <td>0</td>\n",
       "      <td>1</td>\n",
       "      <td>0</td>\n",
       "      <td>1</td>\n",
       "      <td>0</td>\n",
       "      <td>0</td>\n",
       "      <td>0</td>\n",
       "      <td>0</td>\n",
       "      <td>0</td>\n",
       "      <td>0</td>\n",
       "      <td>0</td>\n",
       "      <td>0</td>\n",
       "      <td>0</td>\n",
       "      <td>0</td>\n",
       "      <td>1</td>\n",
       "      <td>0</td>\n",
       "      <td>0</td>\n",
       "      <td>0</td>\n",
       "      <td>0</td>\n",
       "      <td>0</td>\n",
       "      <td>0</td>\n",
       "      <td>0</td>\n",
       "      <td>0</td>\n",
       "      <td>0</td>\n",
       "      <td>0</td>\n",
       "      <td>0</td>\n",
       "      <td>0</td>\n",
       "      <td>0</td>\n",
       "      <td>0</td>\n",
       "      <td>0</td>\n",
       "      <td>0</td>\n",
       "      <td>0</td>\n",
       "      <td>1</td>\n",
       "      <td>0</td>\n",
       "      <td>0</td>\n",
       "      <td>0</td>\n",
       "      <td>0</td>\n",
       "      <td>0</td>\n",
       "      <td>0</td>\n",
       "      <td>0</td>\n",
       "      <td>1</td>\n",
       "      <td>0</td>\n",
       "      <td>0</td>\n",
       "      <td>0</td>\n",
       "      <td>0</td>\n",
       "    </tr>\n",
       "    <tr>\n",
       "      <th>3</th>\n",
       "      <td>id3744273</td>\n",
       "      <td>2</td>\n",
       "      <td>2016-01-05 09:44:31</td>\n",
       "      <td>2016-01-05 10:03:32</td>\n",
       "      <td>6</td>\n",
       "      <td>-73.961670</td>\n",
       "      <td>40.759720</td>\n",
       "      <td>-73.956779</td>\n",
       "      <td>40.780628</td>\n",
       "      <td>N</td>\n",
       "      <td>1141</td>\n",
       "      <td>2.358287</td>\n",
       "      <td>7.440694</td>\n",
       "      <td>Tuesday</td>\n",
       "      <td>1</td>\n",
       "      <td>1</td>\n",
       "      <td>9</td>\n",
       "      <td>1</td>\n",
       "      <td>0</td>\n",
       "      <td>0</td>\n",
       "      <td>1</td>\n",
       "      <td>1</td>\n",
       "      <td>0</td>\n",
       "      <td>0</td>\n",
       "      <td>0</td>\n",
       "      <td>0</td>\n",
       "      <td>0</td>\n",
       "      <td>0</td>\n",
       "      <td>1</td>\n",
       "      <td>0</td>\n",
       "      <td>0</td>\n",
       "      <td>0</td>\n",
       "      <td>0</td>\n",
       "      <td>0</td>\n",
       "      <td>0</td>\n",
       "      <td>0</td>\n",
       "      <td>0</td>\n",
       "      <td>0</td>\n",
       "      <td>0</td>\n",
       "      <td>0</td>\n",
       "      <td>0</td>\n",
       "      <td>0</td>\n",
       "      <td>0</td>\n",
       "      <td>1</td>\n",
       "      <td>0</td>\n",
       "      <td>0</td>\n",
       "      <td>0</td>\n",
       "      <td>0</td>\n",
       "      <td>0</td>\n",
       "      <td>0</td>\n",
       "      <td>0</td>\n",
       "      <td>0</td>\n",
       "      <td>0</td>\n",
       "      <td>0</td>\n",
       "      <td>0</td>\n",
       "      <td>0</td>\n",
       "      <td>0</td>\n",
       "      <td>0</td>\n",
       "      <td>0</td>\n",
       "      <td>0</td>\n",
       "      <td>0</td>\n",
       "      <td>0</td>\n",
       "      <td>0</td>\n",
       "      <td>1</td>\n",
       "    </tr>\n",
       "    <tr>\n",
       "      <th>4</th>\n",
       "      <td>id0232939</td>\n",
       "      <td>1</td>\n",
       "      <td>2016-02-17 06:42:23</td>\n",
       "      <td>2016-02-17 06:56:31</td>\n",
       "      <td>1</td>\n",
       "      <td>-74.017120</td>\n",
       "      <td>40.708469</td>\n",
       "      <td>-73.988182</td>\n",
       "      <td>40.740631</td>\n",
       "      <td>N</td>\n",
       "      <td>848</td>\n",
       "      <td>4.328155</td>\n",
       "      <td>18.374244</td>\n",
       "      <td>Wednesday</td>\n",
       "      <td>2</td>\n",
       "      <td>2</td>\n",
       "      <td>6</td>\n",
       "      <td>1</td>\n",
       "      <td>0</td>\n",
       "      <td>1</td>\n",
       "      <td>0</td>\n",
       "      <td>0</td>\n",
       "      <td>1</td>\n",
       "      <td>0</td>\n",
       "      <td>0</td>\n",
       "      <td>0</td>\n",
       "      <td>0</td>\n",
       "      <td>0</td>\n",
       "      <td>0</td>\n",
       "      <td>1</td>\n",
       "      <td>0</td>\n",
       "      <td>0</td>\n",
       "      <td>0</td>\n",
       "      <td>0</td>\n",
       "      <td>0</td>\n",
       "      <td>0</td>\n",
       "      <td>0</td>\n",
       "      <td>0</td>\n",
       "      <td>0</td>\n",
       "      <td>0</td>\n",
       "      <td>1</td>\n",
       "      <td>0</td>\n",
       "      <td>0</td>\n",
       "      <td>0</td>\n",
       "      <td>0</td>\n",
       "      <td>0</td>\n",
       "      <td>0</td>\n",
       "      <td>0</td>\n",
       "      <td>0</td>\n",
       "      <td>0</td>\n",
       "      <td>0</td>\n",
       "      <td>0</td>\n",
       "      <td>0</td>\n",
       "      <td>0</td>\n",
       "      <td>0</td>\n",
       "      <td>0</td>\n",
       "      <td>0</td>\n",
       "      <td>0</td>\n",
       "      <td>1</td>\n",
       "      <td>0</td>\n",
       "      <td>0</td>\n",
       "      <td>0</td>\n",
       "      <td>0</td>\n",
       "      <td>0</td>\n",
       "    </tr>\n",
       "  </tbody>\n",
       "</table>\n",
       "</div>"
      ],
      "text/plain": [
       "          id  vendor_id     pickup_datetime    dropoff_datetime  \\\n",
       "0  id1080784          2 2016-02-29 16:40:21 2016-02-29 16:47:01   \n",
       "1  id0889885          1 2016-03-11 23:35:37 2016-03-11 23:53:57   \n",
       "2  id0857912          2 2016-02-21 17:59:33 2016-02-21 18:26:48   \n",
       "3  id3744273          2 2016-01-05 09:44:31 2016-01-05 10:03:32   \n",
       "4  id0232939          1 2016-02-17 06:42:23 2016-02-17 06:56:31   \n",
       "\n",
       "   passenger_count  pickup_longitude  pickup_latitude  dropoff_longitude  \\\n",
       "0                1        -73.953918        40.778873         -73.963875   \n",
       "1                2        -73.988312        40.731743         -73.994751   \n",
       "2                2        -73.997314        40.721458         -73.948029   \n",
       "3                6        -73.961670        40.759720         -73.956779   \n",
       "4                1        -74.017120        40.708469         -73.988182   \n",
       "\n",
       "   dropoff_latitude store_and_fwd_flag  trip_duration  distance      speed  \\\n",
       "0         40.771164                  N            400  1.199770  10.797929   \n",
       "1         40.694931                  N           1100  4.123945  13.496548   \n",
       "2         40.774918                  N           1635  7.250436  15.964262   \n",
       "3         40.780628                  N           1141  2.358287   7.440694   \n",
       "4         40.740631                  N            848  4.328155  18.374244   \n",
       "\n",
       "    day_name month day_num pickup_hour  flag_N  flag_Y  vendor_id_1  \\\n",
       "0     Monday     2       0          16       1       0            0   \n",
       "1     Friday     3       4          23       1       0            1   \n",
       "2     Sunday     2       6          17       1       0            0   \n",
       "3    Tuesday     1       1           9       1       0            0   \n",
       "4  Wednesday     2       2           6       1       0            1   \n",
       "\n",
       "   vendor_id_2  month_1  month_2  month_3  month_4  month_5  month_6  \\\n",
       "0            1        0        1        0        0        0        0   \n",
       "1            0        0        0        1        0        0        0   \n",
       "2            1        0        1        0        0        0        0   \n",
       "3            1        1        0        0        0        0        0   \n",
       "4            0        0        1        0        0        0        0   \n",
       "\n",
       "   day_num_0  day_num_1  day_num_2  day_num_3  day_num_4  day_num_5  \\\n",
       "0          1          0          0          0          0          0   \n",
       "1          0          0          0          0          1          0   \n",
       "2          0          0          0          0          0          0   \n",
       "3          0          1          0          0          0          0   \n",
       "4          0          0          1          0          0          0   \n",
       "\n",
       "   day_num_6  pickup_hour_0  pickup_hour_1  pickup_hour_2  pickup_hour_3  \\\n",
       "0          0              0              0              0              0   \n",
       "1          0              0              0              0              0   \n",
       "2          1              0              0              0              0   \n",
       "3          0              0              0              0              0   \n",
       "4          0              0              0              0              0   \n",
       "\n",
       "   pickup_hour_4  pickup_hour_5  pickup_hour_6  pickup_hour_7  pickup_hour_8  \\\n",
       "0              0              0              0              0              0   \n",
       "1              0              0              0              0              0   \n",
       "2              0              0              0              0              0   \n",
       "3              0              0              0              0              0   \n",
       "4              0              0              1              0              0   \n",
       "\n",
       "   pickup_hour_9  pickup_hour_10  pickup_hour_11  pickup_hour_12  \\\n",
       "0              0               0               0               0   \n",
       "1              0               0               0               0   \n",
       "2              0               0               0               0   \n",
       "3              1               0               0               0   \n",
       "4              0               0               0               0   \n",
       "\n",
       "   pickup_hour_13  pickup_hour_14  pickup_hour_15  pickup_hour_16  \\\n",
       "0               0               0               0               1   \n",
       "1               0               0               0               0   \n",
       "2               0               0               0               0   \n",
       "3               0               0               0               0   \n",
       "4               0               0               0               0   \n",
       "\n",
       "   pickup_hour_17  pickup_hour_18  pickup_hour_19  pickup_hour_20  \\\n",
       "0               0               0               0               0   \n",
       "1               0               0               0               0   \n",
       "2               1               0               0               0   \n",
       "3               0               0               0               0   \n",
       "4               0               0               0               0   \n",
       "\n",
       "   pickup_hour_21  pickup_hour_22  pickup_hour_23  passenger_count_1  \\\n",
       "0               0               0               0                  1   \n",
       "1               0               0               1                  0   \n",
       "2               0               0               0                  0   \n",
       "3               0               0               0                  0   \n",
       "4               0               0               0                  1   \n",
       "\n",
       "   passenger_count_2  passenger_count_3  passenger_count_4  passenger_count_5  \\\n",
       "0                  0                  0                  0                  0   \n",
       "1                  1                  0                  0                  0   \n",
       "2                  1                  0                  0                  0   \n",
       "3                  0                  0                  0                  0   \n",
       "4                  0                  0                  0                  0   \n",
       "\n",
       "   passenger_count_6  \n",
       "0                  0  \n",
       "1                  0  \n",
       "2                  0  \n",
       "3                  1  \n",
       "4                  0  "
      ]
     },
     "execution_count": 150,
     "metadata": {},
     "output_type": "execute_result"
    }
   ],
   "source": [
    "data.head()"
   ]
  },
  {
   "cell_type": "code",
   "execution_count": 151,
   "id": "52f00520",
   "metadata": {},
   "outputs": [],
   "source": [
    "data = data.drop(['id'], axis=1)"
   ]
  },
  {
   "cell_type": "code",
   "execution_count": 152,
   "id": "685e1b1b",
   "metadata": {},
   "outputs": [],
   "source": [
    "data = data.drop(['store_and_fwd_flag'], axis=1)"
   ]
  },
  {
   "cell_type": "code",
   "execution_count": 153,
   "id": "80a667e5",
   "metadata": {},
   "outputs": [],
   "source": [
    "data = data.drop(['vendor_id'], axis=1)"
   ]
  },
  {
   "cell_type": "code",
   "execution_count": 154,
   "id": "e173cbd7",
   "metadata": {},
   "outputs": [],
   "source": [
    "# data cleaning\n",
    "# remove potential distance outlier   \n",
    "data = data[(data['distance'] < data['distance'].quantile(0.95))& (data['distance'] > data['distance'].quantile(0.05))]\n",
    "   \n",
    "# remove potential  trip duration outlier   \n",
    "# trip duration should less then 0.5 day and > 10 sec normally\n",
    "# in case test data has no trip duration \n",
    "data = data[(data['trip_duration']  < 3*3600) & (data['trip_duration'] > 10)]\n",
    "data = data[(data['trip_duration'] < data['trip_duration'].quantile(0.95))& (data['trip_duration'] > data['trip_duration'].quantile(0.05))]\n",
    "  \n"
   ]
  },
  {
   "cell_type": "code",
   "execution_count": 155,
   "id": "2a6b5c59",
   "metadata": {},
   "outputs": [],
   "source": [
    "data = data.drop(['dropoff_datetime'], axis=1)"
   ]
  },
  {
   "cell_type": "code",
   "execution_count": 156,
   "id": "93e0ab08",
   "metadata": {},
   "outputs": [],
   "source": [
    "data = data.drop(['pickup_datetime'], axis=1)"
   ]
  },
  {
   "cell_type": "code",
   "execution_count": 157,
   "id": "d74a0ad1",
   "metadata": {},
   "outputs": [],
   "source": [
    "data = data.drop(['passenger_count'], axis=1)"
   ]
  },
  {
   "cell_type": "code",
   "execution_count": 158,
   "id": "a7b6f799",
   "metadata": {},
   "outputs": [],
   "source": [
    "data = data.drop(['day_name'], axis=1)"
   ]
  },
  {
   "cell_type": "markdown",
   "id": "cdfc79c2",
   "metadata": {},
   "source": [
    "### Selection of evaluation metric and Simple model"
   ]
  },
  {
   "cell_type": "markdown",
   "id": "5fbbb028",
   "metadata": {},
   "source": [
    "#### Shuffling and Creating Train and Test Set"
   ]
  },
  {
   "cell_type": "code",
   "execution_count": 159,
   "id": "1d3541cc",
   "metadata": {},
   "outputs": [],
   "source": [
    "from sklearn.utils import shuffle\n",
    "\n",
    "# Shuffling the Dataset\n",
    "datacp = shuffle(datacp, random_state = 30)\n",
    "\n",
    "#creating 4 divisions\n",
    "div = int(datacp.shape[0]/4)\n",
    "\n",
    "# 3 parts to train set and 1 part to test set\n",
    "train = datacp.loc[:3*div+1,:]\n",
    "test = datacp.loc[3*div+1:]"
   ]
  },
  {
   "cell_type": "markdown",
   "id": "f9bf8adc",
   "metadata": {},
   "source": [
    "## Calculation mean of trip duration ##"
   ]
  },
  {
   "cell_type": "code",
   "execution_count": 161,
   "id": "994524da",
   "metadata": {},
   "outputs": [
    {
     "data": {
      "text/plain": [
       "618.3573402453671"
      ]
     },
     "execution_count": 161,
     "metadata": {},
     "output_type": "execute_result"
    }
   ],
   "source": [
    "# storing simple mean in a new column in the test set as \"simple_mean\"\n",
    "test['mean_absolute_error'] = train['trip_duration'].mean()\n",
    "\n",
    "#calculating mean absolute error\n",
    "from sklearn.metrics import mean_absolute_error as MAE\n",
    "\n",
    "mean_error = MAE(test['trip_duration'] , test['mean_absolute_error'])\n",
    "mean_error"
   ]
  },
  {
   "cell_type": "markdown",
   "id": "9ea19ee9",
   "metadata": {},
   "source": [
    "**The best metric is selected as mean absolute error as mostof the outliers in the data are removed. since the variable of distance and speed are related to time duration a mean squared or root mean squared errror calculation is felt not required**"
   ]
  },
  {
   "cell_type": "markdown",
   "id": "37afdd54",
   "metadata": {},
   "source": [
    "## LINEAR REGRESSION WITH REGULARIZATION ##"
   ]
  },
  {
   "cell_type": "code",
   "execution_count": 162,
   "id": "262f6aa8",
   "metadata": {},
   "outputs": [
    {
     "data": {
      "text/plain": [
       "((589827, 56), (589827,))"
      ]
     },
     "execution_count": 162,
     "metadata": {},
     "output_type": "execute_result"
    }
   ],
   "source": [
    "#seperating independent and dependent variables\n",
    "x2 = data.drop(['trip_duration'], axis=1)\n",
    "y2 = data['trip_duration']\n",
    "x2.shape, y2.shape"
   ]
  },
  {
   "cell_type": "code",
   "execution_count": 163,
   "id": "6f560728",
   "metadata": {},
   "outputs": [],
   "source": [
    "# Importing the train test split function\n",
    "from sklearn.model_selection import train_test_split\n",
    "train_x2,test_x2,train_y2,test_y2 = train_test_split(x2,y2, random_state = 66)"
   ]
  },
  {
   "cell_type": "code",
   "execution_count": 164,
   "id": "f742e07e",
   "metadata": {},
   "outputs": [],
   "source": [
    "from sklearn.linear_model import LinearRegression as LR\n",
    "from sklearn.metrics import mean_absolute_error as mae"
   ]
  },
  {
   "cell_type": "code",
   "execution_count": 165,
   "id": "b37a258d",
   "metadata": {},
   "outputs": [
    {
     "data": {
      "text/plain": [
       "LinearRegression(normalize=True)"
      ]
     },
     "execution_count": 165,
     "metadata": {},
     "output_type": "execute_result"
    }
   ],
   "source": [
    "# Creating instance of Linear Regresssion\n",
    "lr = LR(normalize = True)\n",
    "\n",
    "# Fitting the model\n",
    "lr.fit(train_x2, train_y2)"
   ]
  },
  {
   "cell_type": "code",
   "execution_count": 166,
   "id": "f893efe3",
   "metadata": {},
   "outputs": [
    {
     "name": "stdout",
     "output_type": "stream",
     "text": [
      "Training Mean Absolute Error 106.27091878687524\n"
     ]
    }
   ],
   "source": [
    "# Predicting over the Train Set and calculating error\n",
    "train_predict = lr.predict(train_x2)\n",
    "k = mae(train_predict, train_y2)\n",
    "print('Training Mean Absolute Error', k )"
   ]
  },
  {
   "cell_type": "code",
   "execution_count": 167,
   "id": "06c559b7",
   "metadata": {},
   "outputs": [
    {
     "name": "stdout",
     "output_type": "stream",
     "text": [
      "Test Mean Absolute Error     106.26274185016649\n"
     ]
    }
   ],
   "source": [
    "# Predicting over the Test Set and calculating error\n",
    "test_predict = lr.predict(test_x2)\n",
    "k = mae(test_predict, test_y2)\n",
    "print('Test Mean Absolute Error    ', k )"
   ]
  },
  {
   "cell_type": "code",
   "execution_count": 168,
   "id": "e6d8a0b9",
   "metadata": {},
   "outputs": [],
   "source": [
    "# Importing ridge from sklearn's linear_model module\n",
    "from sklearn.linear_model import Ridge"
   ]
  },
  {
   "cell_type": "code",
   "execution_count": 169,
   "id": "0448fc81",
   "metadata": {},
   "outputs": [],
   "source": [
    "#Importing ridge with built-in cross validation\n",
    "from sklearn.linear_model import RidgeCV"
   ]
  },
  {
   "cell_type": "code",
   "execution_count": 170,
   "id": "03a47e7d",
   "metadata": {},
   "outputs": [],
   "source": [
    "# Create ridge regression with alpha values\n",
    "regr_cv = RidgeCV(alphas=[0.1, 0.05, 1.0, 10.0])"
   ]
  },
  {
   "cell_type": "code",
   "execution_count": 171,
   "id": "966ef718",
   "metadata": {},
   "outputs": [],
   "source": [
    "# fitting into ridge_cv\n",
    "model_cv = regr_cv.fit(x2, y2)\n"
   ]
  },
  {
   "cell_type": "code",
   "execution_count": 172,
   "id": "f48aad66",
   "metadata": {},
   "outputs": [
    {
     "data": {
      "text/plain": [
       "1.0"
      ]
     },
     "execution_count": 172,
     "metadata": {},
     "output_type": "execute_result"
    }
   ],
   "source": [
    "#finding best alpha value\n",
    "model_cv.alpha_"
   ]
  },
  {
   "cell_type": "code",
   "execution_count": 173,
   "id": "cc832757",
   "metadata": {},
   "outputs": [],
   "source": [
    "#selecting alpha = 1 for ridge regression\n",
    "rr = Ridge(alpha=1)"
   ]
  },
  {
   "cell_type": "code",
   "execution_count": 174,
   "id": "ade84ccc",
   "metadata": {},
   "outputs": [
    {
     "data": {
      "text/plain": [
       "Ridge(alpha=1)"
      ]
     },
     "execution_count": 174,
     "metadata": {},
     "output_type": "execute_result"
    }
   ],
   "source": [
    "#fits the model on the training set\n",
    "rr.fit(train_x2, train_y2) "
   ]
  },
  {
   "cell_type": "code",
   "execution_count": 175,
   "id": "ca63c3f7",
   "metadata": {},
   "outputs": [
    {
     "data": {
      "text/plain": [
       "106.27035973054876"
      ]
     },
     "execution_count": 175,
     "metadata": {},
     "output_type": "execute_result"
    }
   ],
   "source": [
    "#predicts on the training set\n",
    "pred_train_rr= rr.predict(train_x2)\n",
    "linear_mae_train = mae(train_y2,pred_train_rr)\n",
    "linear_mae_train "
   ]
  },
  {
   "cell_type": "code",
   "execution_count": 176,
   "id": "759ad9db",
   "metadata": {},
   "outputs": [
    {
     "data": {
      "text/plain": [
       "0.8281408615795194"
      ]
     },
     "execution_count": 176,
     "metadata": {},
     "output_type": "execute_result"
    }
   ],
   "source": [
    "Linear_train = 1 -(linear_mae_train /mean_error)\n",
    "Linear_train"
   ]
  },
  {
   "cell_type": "code",
   "execution_count": 177,
   "id": "fbfdb476",
   "metadata": {},
   "outputs": [
    {
     "data": {
      "text/plain": [
       "106.26160010436662"
      ]
     },
     "execution_count": 177,
     "metadata": {},
     "output_type": "execute_result"
    }
   ],
   "source": [
    "#prints prediction on the test set\n",
    "\n",
    "pred_test_rr= rr.predict(test_x2)\n",
    "linear_mae_test = mae(test_y2,pred_test_rr)\n",
    "linear_mae_test"
   ]
  },
  {
   "cell_type": "code",
   "execution_count": 178,
   "id": "925e7c3d",
   "metadata": {},
   "outputs": [
    {
     "data": {
      "text/plain": [
       "0.828155027540869"
      ]
     },
     "execution_count": 178,
     "metadata": {},
     "output_type": "execute_result"
    }
   ],
   "source": [
    "Linear_test = 1 -(linear_mae_test /mean_error)\n",
    "Linear_test"
   ]
  },
  {
   "cell_type": "markdown",
   "id": "607667e9",
   "metadata": {},
   "source": [
    "## DECISION TREE MODEL ##"
   ]
  },
  {
   "cell_type": "code",
   "execution_count": 179,
   "id": "4552d60d",
   "metadata": {
    "scrolled": true
   },
   "outputs": [
    {
     "data": {
      "text/plain": [
       "Index(['pickup_longitude', 'pickup_latitude', 'dropoff_longitude',\n",
       "       'dropoff_latitude', 'trip_duration', 'distance', 'speed', 'month',\n",
       "       'day_num', 'pickup_hour', 'flag_N', 'flag_Y', 'vendor_id_1',\n",
       "       'vendor_id_2', 'month_1', 'month_2', 'month_3', 'month_4', 'month_5',\n",
       "       'month_6', 'day_num_0', 'day_num_1', 'day_num_2', 'day_num_3',\n",
       "       'day_num_4', 'day_num_5', 'day_num_6', 'pickup_hour_0', 'pickup_hour_1',\n",
       "       'pickup_hour_2', 'pickup_hour_3', 'pickup_hour_4', 'pickup_hour_5',\n",
       "       'pickup_hour_6', 'pickup_hour_7', 'pickup_hour_8', 'pickup_hour_9',\n",
       "       'pickup_hour_10', 'pickup_hour_11', 'pickup_hour_12', 'pickup_hour_13',\n",
       "       'pickup_hour_14', 'pickup_hour_15', 'pickup_hour_16', 'pickup_hour_17',\n",
       "       'pickup_hour_18', 'pickup_hour_19', 'pickup_hour_20', 'pickup_hour_21',\n",
       "       'pickup_hour_22', 'pickup_hour_23', 'passenger_count_1',\n",
       "       'passenger_count_2', 'passenger_count_3', 'passenger_count_4',\n",
       "       'passenger_count_5', 'passenger_count_6'],\n",
       "      dtype='object')"
      ]
     },
     "execution_count": 179,
     "metadata": {},
     "output_type": "execute_result"
    }
   ],
   "source": [
    "#Analysing the columns\n",
    "data.columns"
   ]
  },
  {
   "cell_type": "code",
   "execution_count": 180,
   "id": "2d94958c",
   "metadata": {},
   "outputs": [],
   "source": [
    "# shuffling the dataset\n",
    "from sklearn.utils import shuffle\n",
    "data = shuffle(data, random_state = 42)"
   ]
  },
  {
   "cell_type": "code",
   "execution_count": 181,
   "id": "dac4e0a9",
   "metadata": {},
   "outputs": [],
   "source": [
    "#seperating independent and dependent variables(target and the features)\n",
    "\n",
    "x1 = data.drop(['trip_duration'], axis = 1)\n",
    "y1 = data['trip_duration']"
   ]
  },
  {
   "cell_type": "code",
   "execution_count": 182,
   "id": "fd8b1e59",
   "metadata": {},
   "outputs": [],
   "source": [
    "#load library for dividing data\n",
    "from sklearn.model_selection import train_test_split"
   ]
  },
  {
   "cell_type": "code",
   "execution_count": 183,
   "id": "10c09386",
   "metadata": {},
   "outputs": [],
   "source": [
    "#creating the train and test set\n",
    "x1_train, x1_test, y1_train, y1_test = train_test_split(x1, y1, random_state = 101, test_size=0.20)"
   ]
  },
  {
   "cell_type": "code",
   "execution_count": 184,
   "id": "3ff33593",
   "metadata": {},
   "outputs": [],
   "source": [
    "#creating the train and validation set\n",
    "x11_train, x1_valid, y11_train, y1_valid = train_test_split(x1_train, y1_train, random_state = 101, test_size=0.20)"
   ]
  },
  {
   "cell_type": "code",
   "execution_count": 185,
   "id": "0ff6a593",
   "metadata": {},
   "outputs": [],
   "source": [
    "# import decision tree regressor\n",
    "from sklearn.tree import DecisionTreeRegressor"
   ]
  },
  {
   "cell_type": "code",
   "execution_count": 186,
   "id": "ec85df70",
   "metadata": {},
   "outputs": [],
   "source": [
    "#creating the decision tree function\n",
    "dt_model = DecisionTreeRegressor(random_state=10)"
   ]
  },
  {
   "cell_type": "code",
   "execution_count": 187,
   "id": "701f8f1c",
   "metadata": {},
   "outputs": [
    {
     "data": {
      "text/plain": [
       "DecisionTreeRegressor(random_state=10)"
      ]
     },
     "execution_count": 187,
     "metadata": {},
     "output_type": "execute_result"
    }
   ],
   "source": [
    "#checking the training score\n",
    "dt_model.fit(x11_train, y11_train)"
   ]
  },
  {
   "cell_type": "code",
   "execution_count": 188,
   "id": "42cea947",
   "metadata": {},
   "outputs": [
    {
     "data": {
      "text/plain": [
       "1.0"
      ]
     },
     "execution_count": 188,
     "metadata": {},
     "output_type": "execute_result"
    }
   ],
   "source": [
    "#checking the training score\n",
    "dt_model.score(x11_train, y11_train)"
   ]
  },
  {
   "cell_type": "code",
   "execution_count": 189,
   "id": "a0c72301",
   "metadata": {},
   "outputs": [
    {
     "data": {
      "text/plain": [
       "0.999814832780106"
      ]
     },
     "execution_count": 189,
     "metadata": {},
     "output_type": "execute_result"
    }
   ],
   "source": [
    "#checking the validation score\n",
    "dt_model.score(x1_valid, y1_valid)"
   ]
  },
  {
   "cell_type": "markdown",
   "id": "0f76a7ef",
   "metadata": {},
   "source": [
    "**We can notice that both train and validation set have good score and a deeper study is needed to check whether there was overfitting and interpret how the different properties influence the tree**"
   ]
  },
  {
   "cell_type": "markdown",
   "id": "eebdffb8",
   "metadata": {},
   "source": [
    "**First we try to interpret accuracy relative to max depth**"
   ]
  },
  {
   "cell_type": "code",
   "execution_count": 190,
   "id": "2a641f6f",
   "metadata": {},
   "outputs": [],
   "source": [
    "#Function to iterate over different max depth and find train and validation score\n",
    "train_accuracy = []\n",
    "validation_accuracy = []\n",
    "for depth in range(1,15):\n",
    "    dt_model = DecisionTreeRegressor(max_depth=depth,min_impurity_split= 1000, random_state=10)\n",
    "    dt_model.fit(x11_train, y11_train)\n",
    "    train_accuracy.append(dt_model.score(x11_train, y11_train))\n",
    "    validation_accuracy.append(dt_model.score(x1_valid, y1_valid))"
   ]
  },
  {
   "cell_type": "code",
   "execution_count": 191,
   "id": "1404500f",
   "metadata": {},
   "outputs": [
    {
     "data": {
      "text/html": [
       "<div>\n",
       "<style scoped>\n",
       "    .dataframe tbody tr th:only-of-type {\n",
       "        vertical-align: middle;\n",
       "    }\n",
       "\n",
       "    .dataframe tbody tr th {\n",
       "        vertical-align: top;\n",
       "    }\n",
       "\n",
       "    .dataframe thead th {\n",
       "        text-align: right;\n",
       "    }\n",
       "</style>\n",
       "<table border=\"1\" class=\"dataframe\">\n",
       "  <thead>\n",
       "    <tr style=\"text-align: right;\">\n",
       "      <th></th>\n",
       "      <th>max_depth</th>\n",
       "      <th>train_acc</th>\n",
       "      <th>valid_acc</th>\n",
       "    </tr>\n",
       "  </thead>\n",
       "  <tbody>\n",
       "    <tr>\n",
       "      <th>0</th>\n",
       "      <td>1</td>\n",
       "      <td>0.348427</td>\n",
       "      <td>0.347822</td>\n",
       "    </tr>\n",
       "    <tr>\n",
       "      <th>1</th>\n",
       "      <td>2</td>\n",
       "      <td>0.498316</td>\n",
       "      <td>0.496411</td>\n",
       "    </tr>\n",
       "    <tr>\n",
       "      <th>2</th>\n",
       "      <td>3</td>\n",
       "      <td>0.703810</td>\n",
       "      <td>0.701247</td>\n",
       "    </tr>\n",
       "    <tr>\n",
       "      <th>3</th>\n",
       "      <td>4</td>\n",
       "      <td>0.820469</td>\n",
       "      <td>0.819176</td>\n",
       "    </tr>\n",
       "    <tr>\n",
       "      <th>4</th>\n",
       "      <td>5</td>\n",
       "      <td>0.899602</td>\n",
       "      <td>0.898004</td>\n",
       "    </tr>\n",
       "  </tbody>\n",
       "</table>\n",
       "</div>"
      ],
      "text/plain": [
       "   max_depth  train_acc  valid_acc\n",
       "0          1   0.348427   0.347822\n",
       "1          2   0.498316   0.496411\n",
       "2          3   0.703810   0.701247\n",
       "3          4   0.820469   0.819176\n",
       "4          5   0.899602   0.898004"
      ]
     },
     "execution_count": 191,
     "metadata": {},
     "output_type": "execute_result"
    }
   ],
   "source": [
    "#collecting the data into a dataframe\n",
    "frame = pd.DataFrame({'max_depth':range(1,15), 'train_acc':train_accuracy, 'valid_acc':validation_accuracy})\n",
    "frame.head()"
   ]
  },
  {
   "cell_type": "code",
   "execution_count": 192,
   "id": "24379937",
   "metadata": {
    "scrolled": false
   },
   "outputs": [
    {
     "name": "stderr",
     "output_type": "stream",
     "text": [
      "No handles with labels found to put in legend.\n"
     ]
    },
    {
     "data": {
      "text/plain": [
       "<matplotlib.legend.Legend at 0x7ff87da74190>"
      ]
     },
     "execution_count": 192,
     "metadata": {},
     "output_type": "execute_result"
    },
    {
     "data": {
      "image/png": "[encoded data removed]",
      "text/plain": [
       "<Figure size 864x432 with 1 Axes>"
      ]
     },
     "metadata": {
      "needs_background": "light"
     },
     "output_type": "display_data"
    }
   ],
   "source": [
    "#plotting the maxdepth relative to model score\n",
    "plt.figure(figsize=(12,6))\n",
    "plt.plot(frame['max_depth'], frame['train_acc'], marker='o')\n",
    "plt.plot(frame['max_depth'], frame['valid_acc'], marker='o')\n",
    "plt.xlabel('depth')\n",
    "plt.ylabel('performance')\n",
    "plt.legend()"
   ]
  },
  {
   "cell_type": "markdown",
   "id": "b50db1f4",
   "metadata": {},
   "source": [
    "**The best max depth is at 9 further it becomes constant but overfitting could be the reason with further increase**"
   ]
  },
  {
   "cell_type": "code",
   "execution_count": 193,
   "id": "120dff11",
   "metadata": {},
   "outputs": [],
   "source": [
    "#Function to iterate over different max features and find train and validation score\n",
    "train_accuracy = []\n",
    "validation_accuracy = []\n",
    "for features in range(1,35):\n",
    "    dt_model = DecisionTreeRegressor(max_depth=9,max_features= features,min_samples_leaf=1000, random_state=10)\n",
    "    dt_model.fit(x11_train, y11_train)\n",
    "    train_accuracy.append(dt_model.score(x11_train, y11_train))\n",
    "    validation_accuracy.append(dt_model.score(x1_valid, y1_valid))"
   ]
  },
  {
   "cell_type": "code",
   "execution_count": 194,
   "id": "6e5bea6b",
   "metadata": {},
   "outputs": [
    {
     "data": {
      "text/html": [
       "<div>\n",
       "<style scoped>\n",
       "    .dataframe tbody tr th:only-of-type {\n",
       "        vertical-align: middle;\n",
       "    }\n",
       "\n",
       "    .dataframe tbody tr th {\n",
       "        vertical-align: top;\n",
       "    }\n",
       "\n",
       "    .dataframe thead th {\n",
       "        text-align: right;\n",
       "    }\n",
       "</style>\n",
       "<table border=\"1\" class=\"dataframe\">\n",
       "  <thead>\n",
       "    <tr style=\"text-align: right;\">\n",
       "      <th></th>\n",
       "      <th>max_features</th>\n",
       "      <th>train_acc</th>\n",
       "      <th>valid_acc</th>\n",
       "    </tr>\n",
       "  </thead>\n",
       "  <tbody>\n",
       "    <tr>\n",
       "      <th>0</th>\n",
       "      <td>1</td>\n",
       "      <td>0.050259</td>\n",
       "      <td>0.050633</td>\n",
       "    </tr>\n",
       "    <tr>\n",
       "      <th>1</th>\n",
       "      <td>2</td>\n",
       "      <td>0.187519</td>\n",
       "      <td>0.182010</td>\n",
       "    </tr>\n",
       "    <tr>\n",
       "      <th>2</th>\n",
       "      <td>3</td>\n",
       "      <td>0.478110</td>\n",
       "      <td>0.476384</td>\n",
       "    </tr>\n",
       "    <tr>\n",
       "      <th>3</th>\n",
       "      <td>4</td>\n",
       "      <td>0.496173</td>\n",
       "      <td>0.493601</td>\n",
       "    </tr>\n",
       "    <tr>\n",
       "      <th>4</th>\n",
       "      <td>5</td>\n",
       "      <td>0.513718</td>\n",
       "      <td>0.511726</td>\n",
       "    </tr>\n",
       "  </tbody>\n",
       "</table>\n",
       "</div>"
      ],
      "text/plain": [
       "   max_features  train_acc  valid_acc\n",
       "0             1   0.050259   0.050633\n",
       "1             2   0.187519   0.182010\n",
       "2             3   0.478110   0.476384\n",
       "3             4   0.496173   0.493601\n",
       "4             5   0.513718   0.511726"
      ]
     },
     "execution_count": 194,
     "metadata": {},
     "output_type": "execute_result"
    }
   ],
   "source": [
    "#collecting the data into a dataframe\n",
    "frame = pd.DataFrame({'max_features':range(1,35), 'train_acc':train_accuracy, 'valid_acc':validation_accuracy})\n",
    "frame.head()"
   ]
  },
  {
   "cell_type": "code",
   "execution_count": 195,
   "id": "cf45ba6e",
   "metadata": {},
   "outputs": [
    {
     "name": "stderr",
     "output_type": "stream",
     "text": [
      "No handles with labels found to put in legend.\n"
     ]
    },
    {
     "data": {
      "text/plain": [
       "<matplotlib.legend.Legend at 0x7ff87d9d83a0>"
      ]
     },
     "execution_count": 195,
     "metadata": {},
     "output_type": "execute_result"
    },
    {
     "data": {
      "image/png": "[encoded data removed]",
      "text/plain": [
       "<Figure size 864x432 with 1 Axes>"
      ]
     },
     "metadata": {
      "needs_background": "light"
     },
     "output_type": "display_data"
    }
   ],
   "source": [
    "#plotting the maxfeatures relative to model score\n",
    "plt.figure(figsize=(12,6))\n",
    "plt.plot(frame['max_features'], frame['train_acc'], marker='o')\n",
    "plt.plot(frame['max_features'], frame['valid_acc'], marker='o')\n",
    "plt.xlabel('features')\n",
    "plt.ylabel('performance')\n",
    "plt.legend()"
   ]
  },
  {
   "cell_type": "markdown",
   "id": "525446c7",
   "metadata": {},
   "source": [
    "**The best number of features is 31 and sample leaf is set to 1000 which is reasonable with the amount of data about 600000**"
   ]
  },
  {
   "cell_type": "code",
   "execution_count": 196,
   "id": "9aa735d6",
   "metadata": {
    "scrolled": true
   },
   "outputs": [
    {
     "data": {
      "text/plain": [
       "DecisionTreeRegressor(max_depth=9, max_features=31, min_samples_leaf=1000,\n",
       "                      random_state=10)"
      ]
     },
     "execution_count": 196,
     "metadata": {},
     "output_type": "execute_result"
    }
   ],
   "source": [
    "DecisionTreeRegressor(max_depth=9, max_features=31,min_samples_leaf=1000, random_state=10)"
   ]
  },
  {
   "cell_type": "code",
   "execution_count": 197,
   "id": "8dff03b6",
   "metadata": {},
   "outputs": [
    {
     "data": {
      "text/plain": [
       "DecisionTreeRegressor(max_depth=9, max_features=34, min_samples_leaf=1000,\n",
       "                      random_state=10)"
      ]
     },
     "execution_count": 197,
     "metadata": {},
     "output_type": "execute_result"
    }
   ],
   "source": [
    "#fitting the model\n",
    "dt_model.fit(x11_train, y11_train)"
   ]
  },
  {
   "cell_type": "code",
   "execution_count": 198,
   "id": "9911a220",
   "metadata": {
    "scrolled": true
   },
   "outputs": [
    {
     "data": {
      "text/plain": [
       "0.9070085341905335"
      ]
     },
     "execution_count": 198,
     "metadata": {},
     "output_type": "execute_result"
    }
   ],
   "source": [
    "#Training score\n",
    "decision_train = dt_model.score(x11_train, y11_train)\n",
    "decision_train"
   ]
  },
  {
   "cell_type": "code",
   "execution_count": 199,
   "id": "775e1bfc",
   "metadata": {},
   "outputs": [
    {
     "data": {
      "text/plain": [
       "0.9046970545011119"
      ]
     },
     "execution_count": 199,
     "metadata": {},
     "output_type": "execute_result"
    }
   ],
   "source": [
    "#Validation score\n",
    "dt_model.score(x1_valid, y1_valid)"
   ]
  },
  {
   "cell_type": "markdown",
   "id": "5187da90",
   "metadata": {},
   "source": [
    "**Finally to see whether the model performs well on test data and didnt not overfit**"
   ]
  },
  {
   "cell_type": "code",
   "execution_count": 200,
   "id": "b36970fb",
   "metadata": {
    "scrolled": true
   },
   "outputs": [
    {
     "data": {
      "text/plain": [
       "0.9056323128792467"
      ]
     },
     "execution_count": 200,
     "metadata": {},
     "output_type": "execute_result"
    }
   ],
   "source": [
    "decision_test = dt_model.score(x1_test,y1_test)\n",
    "decision_test"
   ]
  },
  {
   "cell_type": "markdown",
   "id": "829a28da",
   "metadata": {},
   "source": [
    "**A GOOD TEST SCORE IS OBTAINED**"
   ]
  },
  {
   "cell_type": "markdown",
   "id": "dca30ff4",
   "metadata": {},
   "source": [
    "**STEPS TO DRAW A DECISION TREE**"
   ]
  },
  {
   "cell_type": "code",
   "execution_count": 201,
   "id": "0552ee4d",
   "metadata": {},
   "outputs": [],
   "source": [
    "from sklearn import tree"
   ]
  },
  {
   "cell_type": "code",
   "execution_count": 202,
   "id": "f17eef74",
   "metadata": {},
   "outputs": [],
   "source": [
    "decision_tree = tree.export_graphviz(dt_model,out_file='tree.dot',feature_names=x1_train.columns,max_depth=2,filled=True)\n"
   ]
  },
  {
   "cell_type": "code",
   "execution_count": 203,
   "id": "a3f1f605",
   "metadata": {},
   "outputs": [],
   "source": [
    "!dot -Tpng tree.dot -o tree.png"
   ]
  },
  {
   "cell_type": "code",
   "execution_count": 204,
   "id": "c61b2a45",
   "metadata": {},
   "outputs": [
    {
     "data": {
      "text/plain": [
       "<matplotlib.image.AxesImage at 0x7ff87d9bac40>"
      ]
     },
     "execution_count": 204,
     "metadata": {},
     "output_type": "execute_result"
    },
    {
     "data": {
      "image/png": "[encoded data removed]",
      "text/plain": [
       "<Figure size 7200x7200 with 1 Axes>"
      ]
     },
     "metadata": {
      "needs_background": "light"
     },
     "output_type": "display_data"
    }
   ],
   "source": [
    "image = plt.imread('tree.png')\n",
    "plt.figure(figsize=(100,100))\n",
    "plt.imshow(image)"
   ]
  },
  {
   "cell_type": "markdown",
   "id": "43e80411",
   "metadata": {},
   "source": [
    "**A look at the decision tree shows that the variables speed and distance takes precedance denoting the accurate prediction is based on them**"
   ]
  },
  {
   "cell_type": "markdown",
   "id": "ab11dae1",
   "metadata": {},
   "source": [
    "### KNN MODEL"
   ]
  },
  {
   "cell_type": "code",
   "execution_count": 205,
   "id": "86f60f79",
   "metadata": {},
   "outputs": [],
   "source": [
    "#seperating independent and dependent variables\n",
    "x = data.drop(['trip_duration'], axis = 1)\n",
    "y = data['trip_duration']"
   ]
  },
  {
   "cell_type": "code",
   "execution_count": 206,
   "id": "7191175b",
   "metadata": {},
   "outputs": [],
   "source": [
    "## Importing the MinMax Scaler\n",
    "from sklearn.preprocessing import MinMaxScaler\n",
    "scaler = MinMaxScaler()\n",
    "x_scaled = scaler.fit_transform(x)"
   ]
  },
  {
   "cell_type": "code",
   "execution_count": 207,
   "id": "28d92f85",
   "metadata": {},
   "outputs": [],
   "source": [
    "#arranging the data back to a dataframe"
   ]
  },
  {
   "cell_type": "code",
   "execution_count": 208,
   "id": "c7ebe5a5",
   "metadata": {},
   "outputs": [],
   "source": [
    "X = pd.DataFrame(x_scaled, columns = x.columns)"
   ]
  },
  {
   "cell_type": "code",
   "execution_count": 209,
   "id": "89b9bd03",
   "metadata": {},
   "outputs": [],
   "source": [
    "#creating the train and test set"
   ]
  },
  {
   "cell_type": "code",
   "execution_count": 210,
   "id": "f0ac92fb",
   "metadata": {},
   "outputs": [],
   "source": [
    "train_x, test_x, train_y, test_y = train_test_split(X,y, random_state = 56)"
   ]
  },
  {
   "cell_type": "code",
   "execution_count": 211,
   "id": "25a0f8c0",
   "metadata": {},
   "outputs": [],
   "source": [
    "#importing KNN regressor and metric mae\n",
    "\n",
    "from sklearn.neighbors import KNeighborsRegressor as KNN\n",
    "from sklearn.metrics import mean_absolute_error as mae"
   ]
  },
  {
   "cell_type": "code",
   "execution_count": 212,
   "id": "a241cd99",
   "metadata": {},
   "outputs": [
    {
     "data": {
      "text/plain": [
       "KNeighborsRegressor(n_neighbors=2)"
      ]
     },
     "execution_count": 212,
     "metadata": {},
     "output_type": "execute_result"
    }
   ],
   "source": [
    "# Creating instance of KNN\n",
    "reg = KNN(n_neighbors = 2)\n",
    "\n",
    "# Fitting the model\n",
    "reg.fit(train_x, train_y)"
   ]
  },
  {
   "cell_type": "code",
   "execution_count": 213,
   "id": "4617fa8d",
   "metadata": {},
   "outputs": [
    {
     "name": "stdout",
     "output_type": "stream",
     "text": [
      "Train MAE score    0.8956190306697887\n"
     ]
    }
   ],
   "source": [
    "# Predicting over the train set and calculating MAE\n",
    "train_predict = reg.predict(train_x)\n",
    "k1 = mae(train_predict, train_y)\n",
    "Knn_train = 1-(k1/mean_error)\n",
    "print('Train MAE score   ', Knn_train )"
   ]
  },
  {
   "cell_type": "code",
   "execution_count": 214,
   "id": "b28c7f18",
   "metadata": {},
   "outputs": [
    {
     "name": "stdout",
     "output_type": "stream",
     "text": [
      "Test MAE score    0.8121046899231037\n"
     ]
    }
   ],
   "source": [
    "# Predicting over the Train Set and calculating MSE\n",
    "test_predict = reg.predict(test_x)\n",
    "k2 = mae(test_predict, test_y)\n",
    "Knn_test = 1-(k2/mean_error)\n",
    "print('Test MAE score   ', Knn_test )"
   ]
  },
  {
   "cell_type": "markdown",
   "id": "fdc6d6b4",
   "metadata": {},
   "source": [
    "**due to lack of computational capacity k= 2 is chose other values dont give output or freezes**"
   ]
  },
  {
   "cell_type": "markdown",
   "id": "79458178",
   "metadata": {},
   "source": [
    "## COMPARISON OF MODELS"
   ]
  },
  {
   "cell_type": "code",
   "execution_count": 216,
   "id": "b87156db",
   "metadata": {},
   "outputs": [],
   "source": [
    "d = {'type':['train','test','train','test','train','test' ],\n",
    "     'model': ['linear','linear','decision_tree','decision_tree','knn','knn'],\n",
    "     'score': [Linear_train, Linear_test,decision_train,decision_test,Knn_train , Knn_test]\n",
    "    }\n",
    "\n",
    "df = pd.DataFrame(d)"
   ]
  },
  {
   "cell_type": "code",
   "execution_count": 217,
   "id": "36ca9495",
   "metadata": {},
   "outputs": [
    {
     "data": {
      "text/plain": [
       "<AxesSubplot:xlabel='model', ylabel='score'>"
      ]
     },
     "execution_count": 217,
     "metadata": {},
     "output_type": "execute_result"
    },
    {
     "data": {
      "image/png": "[encoded data removed]",
      "text/plain": [
       "<Figure size 432x288 with 1 Axes>"
      ]
     },
     "metadata": {
      "needs_background": "light"
     },
     "output_type": "display_data"
    }
   ],
   "source": [
    "sns.barplot(data = df,x = 'model' ,y = 'score',hue = 'type',ci = None )"
   ]
  },
  {
   "cell_type": "markdown",
   "id": "659c554c",
   "metadata": {},
   "source": [
    "**from the graph it is evident that the decision tree is giving the best score and suitable for prediction of data**\n"
   ]
  }
 ],
 "metadata": {
  "kernelspec": {
   "display_name": "Python 3.9.12 ('av')",
   "language": "python",
   "name": "python3"
  },
  "language_info": {
   "codemirror_mode": {
    "name": "ipython",
    "version": 3
   },
   "file_extension": ".py",
   "mimetype": "text/x-python",
   "name": "python",
   "nbconvert_exporter": "python",
   "pygments_lexer": "ipython3",
   "version": "3.9.12"
  },
  "vscode": {
   "interpreter": {
    "hash": "440a55496de0bf34155db44885f997983cfd7ceae9392a3b306a75b145d42614"
   }
  }
 },
 "nbformat": 4,
 "nbformat_minor": 5
}
